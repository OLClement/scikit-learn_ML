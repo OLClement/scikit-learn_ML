{
 "cells": [
  {
   "cell_type": "markdown",
   "metadata": {},
   "source": [
    "# Imports"
   ]
  },
  {
   "cell_type": "code",
   "execution_count": 1,
   "metadata": {},
   "outputs": [],
   "source": [
    "import numpy as np\n",
    "import pandas as pd\n",
    "import os\n",
    "from six.moves import urllib\n",
    "\n",
    "%matplotlib inline\n",
    "import matplotlib\n",
    "import matplotlib.pyplot as plt\n",
    "\n",
    "import warnings\n",
    "warnings.filterwarnings('ignore')"
   ]
  },
  {
   "cell_type": "markdown",
   "metadata": {},
   "source": [
    "# Load Data"
   ]
  },
  {
   "cell_type": "code",
   "execution_count": 2,
   "metadata": {},
   "outputs": [],
   "source": [
    "TRAIN_PATH = 'datasets/mnist/train.csv'\n",
    "TEST_PATH = 'datasets/mnist/test.csv'\n",
    "\n",
    "train = pd.read_csv(TRAIN_PATH)\n",
    "X = train.drop(columns='label')\n",
    "y = train['label']"
   ]
  },
  {
   "cell_type": "code",
   "execution_count": 3,
   "metadata": {},
   "outputs": [
    {
     "name": "stdout",
     "output_type": "stream",
     "text": [
      "X train shape : (42000, 784)\n",
      "y train shape : (42000,)\n"
     ]
    }
   ],
   "source": [
    "print('X train shape :', X.shape)\n",
    "print('y train shape :', y.shape)"
   ]
  },
  {
   "cell_type": "code",
   "execution_count": 4,
   "metadata": {},
   "outputs": [
    {
     "data": {
      "image/png": "[encoded data removed]",
      "text/plain": [
       "<Figure size 432x288 with 1 Axes>"
      ]
     },
     "metadata": {
      "needs_background": "light"
     },
     "output_type": "display_data"
    }
   ],
   "source": [
    "plt.hist(y.values, bins= 20)\n",
    "plt.show()"
   ]
  },
  {
   "cell_type": "code",
   "execution_count": 5,
   "metadata": {
    "scrolled": true
   },
   "outputs": [
    {
     "data": {
      "image/png": "[encoded data removed]",
      "text/plain": [
       "<Figure size 432x288 with 1 Axes>"
      ]
     },
     "metadata": {
      "needs_background": "light"
     },
     "output_type": "display_data"
    },
    {
     "name": "stdout",
     "output_type": "stream",
     "text": [
      "label =  9\n"
     ]
    }
   ],
   "source": [
    "digit = X.loc[37000].values.reshape(28,28)\n",
    "plt.imshow(digit,cmap=matplotlib.cm.binary, interpolation='nearest')\n",
    "plt.axis('off')\n",
    "plt.show()\n",
    "print('label = ',y.loc[37000])"
   ]
  },
  {
   "cell_type": "code",
   "execution_count": 6,
   "metadata": {},
   "outputs": [],
   "source": [
    "X_arr = X.values\n",
    "\n",
    "shuffle_index = np.random.permutation(len(X_arr))\n",
    "X_arr = X_arr[shuffle_index]\n",
    "y = y[shuffle_index]"
   ]
  },
  {
   "cell_type": "code",
   "execution_count": 7,
   "metadata": {},
   "outputs": [
    {
     "name": "stdout",
     "output_type": "stream",
     "text": [
      "train shape : (32760, 784)\n"
     ]
    }
   ],
   "source": [
    "from sklearn.model_selection import train_test_split\n",
    "\n",
    "X_train, X_test, y_train, y_test = train_test_split(X_arr, y, test_size = 0.22, random_state=42)\n",
    "print('train shape :', X_train.shape)"
   ]
  },
  {
   "cell_type": "markdown",
   "metadata": {},
   "source": [
    "# Classification binaire : 5 ou pas"
   ]
  },
  {
   "cell_type": "code",
   "execution_count": 8,
   "metadata": {},
   "outputs": [],
   "source": [
    "y_train_5 = (y_train == 5)\n",
    "y_test_5 = (y_test == 5)"
   ]
  },
  {
   "cell_type": "markdown",
   "metadata": {},
   "source": [
    "* model SGDClassifier\n",
    "* model homemade tout simple (prédit toujours 0)\n",
    "* randomforest\n",
    "* svm"
   ]
  },
  {
   "cell_type": "code",
   "execution_count": 9,
   "metadata": {},
   "outputs": [
    {
     "data": {
      "text/plain": [
       "array([0.96328175, 0.96108059, 0.93085447])"
      ]
     },
     "execution_count": 9,
     "metadata": {},
     "output_type": "execute_result"
    }
   ],
   "source": [
    "from sklearn.linear_model import SGDClassifier\n",
    "\n",
    "sgd_clf = SGDClassifier()\n",
    "\n",
    "from sklearn.model_selection import cross_val_score\n",
    "\n",
    "cross_val_score(sgd_clf, X_train, y_train_5, cv= 3, scoring='accuracy')"
   ]
  },
  {
   "cell_type": "code",
   "execution_count": 10,
   "metadata": {},
   "outputs": [
    {
     "data": {
      "text/plain": [
       "array([0.90714286, 0.90540293, 0.91428571])"
      ]
     },
     "execution_count": 10,
     "metadata": {},
     "output_type": "execute_result"
    }
   ],
   "source": [
    "from sklearn.base import BaseEstimator\n",
    "\n",
    "class SimpleModel(BaseEstimator):\n",
    "    def fit(self,X,y=None):\n",
    "        pass\n",
    "    def predict(self,X):\n",
    "        return np.zeros((len(X),1))\n",
    "    \n",
    "simple_clf = SimpleModel()\n",
    "predictions = simple_clf.predict(X_train)\n",
    "\n",
    "cross_val_score(simple_clf,X_train,y_train_5, scoring='accuracy')"
   ]
  },
  {
   "cell_type": "code",
   "execution_count": 11,
   "metadata": {
    "scrolled": true
   },
   "outputs": [
    {
     "data": {
      "text/plain": [
       "array([[29186,   591],\n",
       "       [  523,  2460]], dtype=int64)"
      ]
     },
     "execution_count": 11,
     "metadata": {},
     "output_type": "execute_result"
    }
   ],
   "source": [
    "from sklearn.metrics import confusion_matrix\n",
    "\n",
    "sgd_clf.fit(X_train,y_train_5)\n",
    "\n",
    "predictions = sgd_clf.predict(X_train)\n",
    "confusion_matrix(y_train_5, predictions)"
   ]
  },
  {
   "cell_type": "code",
   "execution_count": 12,
   "metadata": {},
   "outputs": [
    {
     "name": "stdout",
     "output_type": "stream",
     "text": [
      "Precision: 0.8062930186823992\n",
      "Recall: 0.8246731478377473\n",
      "f1-score: 0.8153795160755718\n"
     ]
    }
   ],
   "source": [
    "from sklearn.metrics import precision_score, recall_score\n",
    "\n",
    "print('Precision:',precision_score(y_train_5,predictions))\n",
    "print('Recall:',recall_score(y_train_5,predictions))\n",
    "\n",
    "from sklearn.metrics import f1_score\n",
    "print('f1-score:',f1_score(y_train_5,predictions))"
   ]
  },
  {
   "cell_type": "code",
   "execution_count": 13,
   "metadata": {},
   "outputs": [
    {
     "data": {
      "text/plain": [
       "array([-160563.06009753])"
      ]
     },
     "execution_count": 13,
     "metadata": {},
     "output_type": "execute_result"
    }
   ],
   "source": [
    "some_digit = X_train[12000]\n",
    "y_score = sgd_clf.decision_function([some_digit])\n",
    "y_score"
   ]
  },
  {
   "cell_type": "code",
   "execution_count": 14,
   "metadata": {},
   "outputs": [],
   "source": [
    "from sklearn.model_selection import cross_val_predict\n",
    "\n",
    "y_scores = cross_val_predict(sgd_clf, X_train, y_train_5, cv=3, method ='decision_function')"
   ]
  },
  {
   "cell_type": "code",
   "execution_count": 15,
   "metadata": {},
   "outputs": [
    {
     "data": {
      "image/png": "[encoded data removed]",
      "text/plain": [
       "<Figure size 432x288 with 1 Axes>"
      ]
     },
     "metadata": {
      "needs_background": "light"
     },
     "output_type": "display_data"
    }
   ],
   "source": [
    "from sklearn.metrics import precision_recall_curve\n",
    "\n",
    "precisions, recalls, thresholds = precision_recall_curve(y_train_5, y_scores)\n",
    "\n",
    "plt.plot(thresholds, precisions[:-1],\"b--\", label='Precision')\n",
    "plt.plot(thresholds, recalls[:-1],\"g-\", label='Recall')\n",
    "plt.xlabel('threshold')\n",
    "plt.legend(loc='upper left')\n",
    "plt.show()"
   ]
  },
  {
   "cell_type": "code",
   "execution_count": 16,
   "metadata": {},
   "outputs": [
    {
     "data": {
      "image/png": "[encoded data removed]",
      "text/plain": [
       "<Figure size 432x288 with 1 Axes>"
      ]
     },
     "metadata": {
      "needs_background": "light"
     },
     "output_type": "display_data"
    }
   ],
   "source": [
    "plt.plot(recalls, precisions)\n",
    "plt.xlabel('Recall')\n",
    "plt.ylabel('Precision')\n",
    "plt.show()"
   ]
  },
  {
   "cell_type": "code",
   "execution_count": 17,
   "metadata": {},
   "outputs": [
    {
     "data": {
      "image/png": "[encoded data removed]",
      "text/plain": [
       "<Figure size 432x288 with 1 Axes>"
      ]
     },
     "metadata": {
      "needs_background": "light"
     },
     "output_type": "display_data"
    }
   ],
   "source": [
    "from sklearn.metrics import roc_curve\n",
    "\n",
    "fpr, tpr, thresholds = roc_curve(y_train_5, y_scores)\n",
    "plt.plot(fpr, tpr)\n",
    "plt.plot([0,1],[0,1], 'k--')\n",
    "plt.xlabel('False Positive rate')\n",
    "plt.ylabel('True Positive rate')\n",
    "plt.show()"
   ]
  },
  {
   "cell_type": "markdown",
   "metadata": {},
   "source": [
    "Plus le recall (True positive rate) augnmente, plus le False Positive rate augmente. => Plus on a  d'exemples positifs prédits comme positifs classés, plus on a d'exemples négatifs classés comme positif. Maximiser le recall revient a ne pas \"oublier\" d'exemples positifs. Maximiser la précision revient a s'assurer que lorsqu'un exemple est prédit comme positif alors il l'est."
   ]
  },
  {
   "cell_type": "code",
   "execution_count": 18,
   "metadata": {},
   "outputs": [
    {
     "data": {
      "text/plain": [
       "0.9612419690354239"
      ]
     },
     "execution_count": 18,
     "metadata": {},
     "output_type": "execute_result"
    }
   ],
   "source": [
    "from sklearn.metrics import roc_auc_score\n",
    "\n",
    "roc_auc_score(y_train_5, y_scores)"
   ]
  },
  {
   "cell_type": "markdown",
   "metadata": {},
   "source": [
    "you should prefer the PR curve whenever the positive\n",
    "class is rare or when you care more about the false positives than\n",
    "the false negatives, and the ROC curve otherwise. For example,\n",
    "looking at the previous ROC curve (and the ROC AUC score), you\n",
    "may think that the classifier is really good. But this is mostly\n",
    "because there are few positives (5s) compared to the negatives\n",
    "(non-5s). In contrast, the PR curve makes it clear that the classifier\n",
    "has room for improvement"
   ]
  },
  {
   "cell_type": "code",
   "execution_count": 19,
   "metadata": {},
   "outputs": [
    {
     "data": {
      "image/png": "[encoded data removed]",
      "text/plain": [
       "<Figure size 432x288 with 1 Axes>"
      ]
     },
     "metadata": {
      "needs_background": "light"
     },
     "output_type": "display_data"
    },
    {
     "name": "stdout",
     "output_type": "stream",
     "text": [
      "0.9903774555461662\n"
     ]
    }
   ],
   "source": [
    "from sklearn.ensemble import RandomForestClassifier\n",
    "\n",
    "forest_clf = RandomForestClassifier(random_state=42)\n",
    "y_probas_forest = cross_val_predict(forest_clf, X_train, y_train_5, cv=3, method=\"predict_proba\")\n",
    "\n",
    "# utiliser uniquement la proba de la classe positive comme score : que la deuxieme colonne\n",
    "y_probas_forest = y_probas_forest[:,1]\n",
    "\n",
    "fpr_forest, tpr_forest, thresholds = roc_curve(y_train_5, y_probas_forest)\n",
    "\n",
    "plt.plot(fpr, tpr, \"b:\", label=\"SGD\")\n",
    "plt.plot(fpr_forest, tpr_forest, label=\"Random Forest\")\n",
    "plt.plot([0,1],[0,1], 'k--')\n",
    "plt.xlabel('False Positive rate')\n",
    "plt.ylabel('True Positive rate')\n",
    "plt.show()\n",
    "print(roc_auc_score(y_train_5, y_probas_forest))"
   ]
  },
  {
   "cell_type": "markdown",
   "metadata": {},
   "source": [
    "Le \"area under the curve\" roc score proche de 1 est très recherché puisqu'on a un recall de 100% pour un taux de faux positif nul. "
   ]
  },
  {
   "cell_type": "markdown",
   "metadata": {},
   "source": [
    "# Multiclass Classification\n",
    "* One vs All (Logistic regression and other that fits on large training set)\n",
    "* One vs One (Svm because it trains on subset of dataset)"
   ]
  },
  {
   "cell_type": "code",
   "execution_count": 20,
   "metadata": {},
   "outputs": [
    {
     "data": {
      "text/plain": [
       "array([6], dtype=int64)"
      ]
     },
     "execution_count": 20,
     "metadata": {},
     "output_type": "execute_result"
    }
   ],
   "source": [
    "# SGDClassifier automatically adapts to multiclass with One-vs-All classfication\n",
    "sgd_clf = SGDClassifier(random_state=42)\n",
    "sgd_clf.fit(X_train, y_train)\n",
    "sgd_clf.predict([some_digit])"
   ]
  },
  {
   "cell_type": "code",
   "execution_count": 21,
   "metadata": {},
   "outputs": [
    {
     "data": {
      "image/png": "[encoded data removed]",
      "text/plain": [
       "<Figure size 432x288 with 1 Axes>"
      ]
     },
     "metadata": {
      "needs_background": "light"
     },
     "output_type": "display_data"
    }
   ],
   "source": [
    "plt.imshow(some_digit.reshape(28,28), cmap=matplotlib.cm.binary)\n",
    "plt.axis('off')\n",
    "plt.show()"
   ]
  },
  {
   "cell_type": "code",
   "execution_count": 22,
   "metadata": {},
   "outputs": [
    {
     "name": "stdout",
     "output_type": "stream",
     "text": [
      "[ -382358.60473883  -750172.05233143    74888.01028603  -966082.82179359\n",
      "  -782225.98495187  -225336.76155749   422684.41648166 -1309160.15676799\n",
      "  -273357.04466501  -844811.70951674]\n",
      "6\n"
     ]
    }
   ],
   "source": [
    "print(sgd_clf.decision_function([some_digit]).squeeze())\n",
    "print(np.argmax(sgd_clf.decision_function([some_digit])))"
   ]
  },
  {
   "cell_type": "code",
   "execution_count": 23,
   "metadata": {},
   "outputs": [
    {
     "name": "stdout",
     "output_type": "stream",
     "text": [
      "[ 3.95061356  2.91753296  8.28890214  5.01653859  4.02843513  7.28754334\n",
      "  9.35457823 -0.5         3.98595868  0.66989735]\n",
      "[6]\n"
     ]
    }
   ],
   "source": [
    "from sklearn.multiclass import OneVsOneClassifier\n",
    "\n",
    "ovo_clf = OneVsOneClassifier(SGDClassifier(random_state=42))\n",
    "ovo_clf.fit(X_train,y_train)\n",
    "print(ovo_clf.decision_function([some_digit]).squeeze())\n",
    "print(ovo_clf.predict([some_digit]))"
   ]
  },
  {
   "cell_type": "code",
   "execution_count": 24,
   "metadata": {},
   "outputs": [
    {
     "name": "stdout",
     "output_type": "stream",
     "text": [
      "[6]\n",
      "[[0.  0.1 0.  0.  0.  0.  0.9 0.  0.  0. ]]\n"
     ]
    }
   ],
   "source": [
    "forest_clf.fit(X_train,y_train)\n",
    "print(forest_clf.predict([some_digit]))\n",
    "print(forest_clf.predict_proba([some_digit]))"
   ]
  },
  {
   "cell_type": "code",
   "execution_count": 25,
   "metadata": {},
   "outputs": [
    {
     "name": "stdout",
     "output_type": "stream",
     "text": [
      "random forest: [0.92649213 0.93177031 0.9289182 ]\n",
      "SGDClassifier: [0.85884291 0.84879568 0.86525602]\n",
      "random forest scaled: [0.92649213 0.93158714 0.9288266 ]\n",
      "SGDClassifier scaled: [0.90800073 0.90713435 0.90546854]\n"
     ]
    }
   ],
   "source": [
    "print('random forest:',cross_val_score(forest_clf,X_train,y_train,cv=3,scoring='accuracy'))\n",
    "print('SGDClassifier:',cross_val_score(sgd_clf,X_train,y_train,cv=3,scoring='accuracy'))\n",
    "\n",
    "# check l'effet d'une normalization z-score (-mean/std)\n",
    "from sklearn.preprocessing import StandardScaler\n",
    "\n",
    "scaler = StandardScaler()\n",
    "X_train_scaled = scaler.fit_transform(X_train)\n",
    "print('random forest scaled:',cross_val_score(forest_clf,X_train_scaled,y_train,cv=3,scoring='accuracy'))\n",
    "print('SGDClassifier scaled:',cross_val_score(sgd_clf,X_train_scaled,y_train,cv=3,scoring='accuracy'))"
   ]
  },
  {
   "cell_type": "markdown",
   "metadata": {},
   "source": [
    "#### Error Analysis"
   ]
  },
  {
   "cell_type": "code",
   "execution_count": 26,
   "metadata": {},
   "outputs": [
    {
     "data": {
      "image/png": "[encoded data removed]",
      "text/plain": [
       "<Figure size 288x288 with 1 Axes>"
      ]
     },
     "metadata": {
      "needs_background": "light"
     },
     "output_type": "display_data"
    }
   ],
   "source": [
    "y_train_pred = cross_val_predict(sgd_clf, X_train_scaled, y_train, cv=3)\n",
    "conf_mx = confusion_matrix(y_train,y_train_pred)\n",
    "\n",
    "plt.matshow(conf_mx, cmap = plt.cm.gray)\n",
    "plt.show()"
   ]
  },
  {
   "cell_type": "code",
   "execution_count": 27,
   "metadata": {},
   "outputs": [
    {
     "data": {
      "text/plain": [
       "array([[3111,    2,   12,    6,    6,   29,   38,    6,   16,    3],\n",
       "       [   1, 3526,   20,   14,    2,   16,    3,    5,   54,    3],\n",
       "       [  30,   25, 2892,   64,   46,   14,   51,   44,   85,   10],\n",
       "       [  24,   23,   85, 2922,    3,  137,   24,   23,   86,   58],\n",
       "       [  11,   20,   17,    5, 2905,    7,   29,   13,   42,  126],\n",
       "       [  45,   33,   15,  111,   38, 2517,   74,   15,   91,   44],\n",
       "       [  21,   15,   19,    0,   25,   47, 3047,    5,   25,    0],\n",
       "       [  19,   17,   46,   16,   21,    6,    3, 3154,    8,  129],\n",
       "       [  29,  102,   34,   80,    8,   86,   24,   16, 2733,   78],\n",
       "       [  20,   18,   12,   45,  101,   20,    1,  105,   46, 2902]],\n",
       "      dtype=int64)"
      ]
     },
     "execution_count": 27,
     "metadata": {},
     "output_type": "execute_result"
    }
   ],
   "source": [
    "conf_mx"
   ]
  },
  {
   "cell_type": "markdown",
   "metadata": {},
   "source": [
    "Visiblement, le classifier performe bien, juste la classe 5 semble être moins bien détectée."
   ]
  },
  {
   "cell_type": "code",
   "execution_count": 28,
   "metadata": {},
   "outputs": [
    {
     "data": {
      "image/png": "[encoded data removed]",
      "text/plain": [
       "<Figure size 288x288 with 1 Axes>"
      ]
     },
     "metadata": {
      "needs_background": "light"
     },
     "output_type": "display_data"
    }
   ],
   "source": [
    "# divise chaque valeur par le nb d'images dans la classe correspondante\n",
    "row_sums = conf_mx.sum(axis = 1, keepdims= True)\n",
    "norm_conf_mx = conf_mx / row_sums\n",
    "\n",
    "# fill avec des zero pour ne garder que les erreurs.\n",
    "np.fill_diagonal(norm_conf_mx,0)\n",
    "plt.matshow(norm_conf_mx, cmap = plt.cm.gray)\n",
    "plt.show()"
   ]
  },
  {
   "cell_type": "markdown",
   "metadata": {},
   "source": [
    "Les lignes correspondent aux classes actuelles et les colonnes aux classes prédites : la colonne 5 pour la classe actuelle 3 est très claire => les 3 sont souvent prédits en 5. Pareil les 5 sont souvent prédits en 3. De même les 7 sont souvent classifiés en 9 et les 8 en 9"
   ]
  },
  {
   "cell_type": "markdown",
   "metadata": {},
   "source": [
    "On sait maintenant où focaliser nos efforts pour la suite."
   ]
  },
  {
   "cell_type": "markdown",
   "metadata": {},
   "source": [
    "# Multilabel Classification\n",
    "* Plusieurs classes détectables par sample"
   ]
  },
  {
   "cell_type": "code",
   "execution_count": 29,
   "metadata": {},
   "outputs": [],
   "source": [
    "y_train_large = (y_train >= 7) # classe 8 et 9 = 1\n",
    "y_train_odd = (y_train%2 == 1) # impair = 1\n",
    "y_multilabel = np.c_[y_train_large, y_train_odd]"
   ]
  },
  {
   "cell_type": "code",
   "execution_count": 30,
   "metadata": {},
   "outputs": [
    {
     "data": {
      "text/plain": [
       "array([[False, False]])"
      ]
     },
     "execution_count": 30,
     "metadata": {},
     "output_type": "execute_result"
    }
   ],
   "source": [
    "from sklearn.neighbors import KNeighborsClassifier\n",
    "\n",
    "knn_clf = KNeighborsClassifier()\n",
    "knn_clf.fit(X_train, y_multilabel)\n",
    "knn_clf.predict([some_digit])"
   ]
  },
  {
   "cell_type": "code",
   "execution_count": 32,
   "metadata": {},
   "outputs": [],
   "source": [
    "y_train_knn_pred = knn_clf.predict(X_train)\n",
    "f1_score(y_multilabel, y_train_knn_pred, average='macro')"
   ]
  },
  {
   "cell_type": "markdown",
   "metadata": {},
   "source": [
    "# Multioutput Classification\n",
    "* Exemple : 1 label par pixel = valeur du pixel "
   ]
  },
  {
   "cell_type": "code",
   "execution_count": 33,
   "metadata": {},
   "outputs": [],
   "source": [
    "noise = np.random.randint(0, 100, (len(X_train), 784))\n",
    "X_train_mod = X_train + noise\n",
    "noise = np.random.randint(0, 100, (len(X_test), 784))\n",
    "X_test_mod = X_test + noise\n",
    "y_train_mod = X_train\n",
    "y_test_mod = X_test"
   ]
  },
  {
   "cell_type": "code",
   "execution_count": 34,
   "metadata": {},
   "outputs": [
    {
     "data": {
      "image/png": "[encoded data removed]",
      "text/plain": [
       "<Figure size 432x288 with 2 Axes>"
      ]
     },
     "metadata": {
      "needs_background": "light"
     },
     "output_type": "display_data"
    }
   ],
   "source": [
    "some_index = 5500\n",
    "plt.subplot(121); plt.imshow(X_test_mod[some_index].reshape(28,28), cmap=matplotlib.cm.binary)\n",
    "plt.subplot(122); plt.imshow(y_test_mod[some_index].reshape(28,28), cmap=matplotlib.cm.binary)\n",
    "plt.show()"
   ]
  },
  {
   "cell_type": "code",
   "execution_count": 42,
   "metadata": {},
   "outputs": [
    {
     "data": {
      "image/png": "[encoded data removed]",
      "text/plain": [
       "<Figure size 432x288 with 1 Axes>"
      ]
     },
     "metadata": {
      "needs_background": "light"
     },
     "output_type": "display_data"
    }
   ],
   "source": [
    "knn_clf.fit(X_train_mod, y_train_mod)\n",
    "clean_digit = knn_clf.predict([X_test_mod[some_index]])\n",
    "plt.imshow(clean_digit.reshape(28,28), cmap=matplotlib.cm.binary)\n",
    "plt.show()"
   ]
  },
  {
   "cell_type": "code",
   "execution_count": null,
   "metadata": {},
   "outputs": [],
   "source": []
  }
 ],
 "metadata": {
  "kernelspec": {
   "display_name": "Python 3",
   "language": "python",
   "name": "python3"
  },
  "language_info": {
   "codemirror_mode": {
    "name": "ipython",
    "version": 3
   },
   "file_extension": ".py",
   "mimetype": "text/x-python",
   "name": "python",
   "nbconvert_exporter": "python",
   "pygments_lexer": "ipython3",
   "version": "3.7.3"
  }
 },
 "nbformat": 4,
 "nbformat_minor": 2
}
