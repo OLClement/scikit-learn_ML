{
 "cells": [
  {
   "cell_type": "markdown",
   "metadata": {},
   "source": [
    "# imports"
   ]
  },
  {
   "cell_type": "code",
   "execution_count": 34,
   "metadata": {},
   "outputs": [],
   "source": [
    "import numpy as np\n",
    "import pandas as pd\n",
    "import os\n",
    "from six.moves import urllib\n",
    "\n",
    "%matplotlib inline\n",
    "import matplotlib\n",
    "import matplotlib.pyplot as plt\n",
    "\n",
    "import warnings\n",
    "warnings.filterwarnings('ignore')"
   ]
  },
  {
   "cell_type": "markdown",
   "metadata": {},
   "source": [
    "# Load Data"
   ]
  },
  {
   "cell_type": "code",
   "execution_count": 117,
   "metadata": {},
   "outputs": [
    {
     "data": {
      "image/png": "[encoded data removed]",
      "text/plain": [
       "<Figure size 432x288 with 1 Axes>"
      ]
     },
     "metadata": {
      "needs_background": "light"
     },
     "output_type": "display_data"
    }
   ],
   "source": [
    "X = 2 * np.random.rand(100,1)\n",
    "y = 4 + 3 * X + np.random.randn(100,1)\n",
    "\n",
    "plt.plot(X, y, \"b.\")\n",
    "plt.axis([0, 2, 0, 15])\n",
    "plt.show()"
   ]
  },
  {
   "cell_type": "code",
   "execution_count": 118,
   "metadata": {},
   "outputs": [
    {
     "data": {
      "text/plain": [
       "array([[3.74807083],\n",
       "       [3.2074838 ]])"
      ]
     },
     "execution_count": 118,
     "metadata": {},
     "output_type": "execute_result"
    }
   ],
   "source": [
    "X_b = np.c_[np.ones((100, 1)), X] # ajout du biais\n",
    "theta_best = np.linalg.inv(X_b.T.dot(X_b)).dot(X_b.T).dot(y)\n",
    "theta_best"
   ]
  },
  {
   "cell_type": "code",
   "execution_count": 37,
   "metadata": {},
   "outputs": [
    {
     "data": {
      "text/plain": [
       "array([[4.29089269],\n",
       "       [9.73984771]])"
      ]
     },
     "execution_count": 37,
     "metadata": {},
     "output_type": "execute_result"
    }
   ],
   "source": [
    "# test avec 2 exemples\n",
    "X_new = np.array([[0],[2]])\n",
    "X_new_b = np.c_[np.ones((2,1)),X_new]\n",
    "\n",
    "y_predict = X_new_b.dot(theta_best)\n",
    "y_predict"
   ]
  },
  {
   "cell_type": "code",
   "execution_count": 38,
   "metadata": {},
   "outputs": [
    {
     "data": {
      "image/png": "[encoded data removed]",
      "text/plain": [
       "<Figure size 432x288 with 1 Axes>"
      ]
     },
     "metadata": {
      "needs_background": "light"
     },
     "output_type": "display_data"
    }
   ],
   "source": [
    "plt.plot(X_new, y_predict, \"r-\")\n",
    "plt.plot(X, y, \"b.\")\n",
    "plt.axis([0, 2, 0, 15])\n",
    "plt.show()"
   ]
  },
  {
   "cell_type": "markdown",
   "metadata": {},
   "source": [
    "Linear regression from scratch"
   ]
  },
  {
   "cell_type": "code",
   "execution_count": 114,
   "metadata": {},
   "outputs": [
    {
     "data": {
      "text/plain": [
       "0.6970810414450161"
      ]
     },
     "execution_count": 114,
     "metadata": {},
     "output_type": "execute_result"
    }
   ],
   "source": [
    "from sklearn.linear_model import LinearRegression\n",
    "\n",
    "model = LinearRegression()\n",
    "model.fit(X,y)\n",
    "preds = model.predict(X)\n",
    "\n",
    "mae = (1/X.shape[0]) * np.sum(np.abs(preds - y))\n",
    "mae"
   ]
  },
  {
   "cell_type": "code",
   "execution_count": 300,
   "metadata": {},
   "outputs": [],
   "source": [
    "from sklearn.base import BaseEstimator, ClassifierMixin, RegressorMixin, ClusterMixin, TransformerMixin\n",
    "from sklearn.model_selection import train_test_split\n",
    "\n",
    "class Linear_Regressor(BaseEstimator, RegressorMixin):\n",
    "    \"\"\"\n",
    "    - X : shape = m,n\n",
    "    - y : shape = m,1\n",
    "    \"\"\"\n",
    "    def __init__(self,batch_size=32, learning_rate=0.003, nb_iter=10000):\n",
    "        self.learning_rate = learning_rate\n",
    "        self.nb_iter = nb_iter\n",
    "        self.batch_size = batch_size\n",
    "        \n",
    "    # perform Stochiastic Gradient Descent   \n",
    "    def fit(self, X, y=None, verbose = True):\n",
    "        \n",
    "        m = X.shape[0] # nb training exemple\n",
    "        n = X.shape[1] + 1 # nb features + intercept\n",
    "        \n",
    "        # ajout intercept\n",
    "        X_b = np.c_[np.ones((m,1)),X]\n",
    "        \n",
    "        # separation set d'apprentissage / validation\n",
    "        # random initialization theta\n",
    "        self.theta = np.random.rand(n,1)\n",
    "        \n",
    "        for epoch in range(self.nb_iter):\n",
    "            \n",
    "            idx = np.random.randint(0,high=m,size = self.batch_size)\n",
    "            # compute predictions \n",
    "            preds = self.predict(X_b[idx,:],theta)\n",
    "\n",
    "            # compute gradients\n",
    "            grads = (2/self.batch_size) * X_b[idx,:].T.dot(preds - y[idx])\n",
    "            print(grads)\n",
    "            # update weights\n",
    "            self.theta -= self.learning_rate * grads\n",
    "            \n",
    "    def predict(self, X, y=None):\n",
    "        if X.shape[1] < self.theta.shape[0]:\n",
    "            X = np.c_[np.ones((X.shape[0],1)),X]\n",
    "        return X.dot(self.theta)\n",
    "    def cost(self,X,y):\n",
    "        \n",
    "        return None\n",
    "    \n",
    "    def score(self, X, y=None, metrics = 'MAE'):\n",
    "        return (1/X.shape[0]) * np.sum(np.abs(self.predict(X) - y))"
   ]
  },
  {
   "cell_type": "code",
   "execution_count": 301,
   "metadata": {},
   "outputs": [],
   "source": [
    "m = 10000\n",
    "\n",
    "\n",
    "X = 2 * np.random.rand(m,1)\n",
    "y = 4 + 3 * X + np.random.randn(m,1)"
   ]
  },
  {
   "cell_type": "code",
   "execution_count": 302,
   "metadata": {},
   "outputs": [
    {
     "name": "stdout",
     "output_type": "stream",
     "text": [
      "[[-11.90438427]\n",
      " [-13.15700644]]\n",
      "[[-11.60580149]\n",
      " [-14.40462162]]\n",
      "MAE= 4.417709037387427\n"
     ]
    }
   ],
   "source": [
    "lin_reg = Linear_Regressor(learning_rate=0.03,nb_iter=2, batch_size=32)\n",
    "\n",
    "lin_reg.fit(X,y)\n",
    "#y_pred = lin_reg.predict(X)\n",
    "print('MAE=',lin_reg.score(X,y))"
   ]
  },
  {
   "cell_type": "code",
   "execution_count": 242,
   "metadata": {
    "scrolled": true
   },
   "outputs": [
    {
     "data": {
      "text/plain": [
       "Linear_Regressor(batch_size=64, learning_rate=0.003, nb_iter=10000)"
      ]
     },
     "execution_count": 242,
     "metadata": {},
     "output_type": "execute_result"
    }
   ],
   "source": [
    "from sklearn.model_selection import GridSearchCV\n",
    "\n",
    "param_grid = [\n",
    "    {'learning_rate':[0.003, 0.01, 0.03], 'nb_iter':[300,1000,3000,10000], 'batch_size':[1,16,32,64]}\n",
    "]\n",
    "\n",
    "lin_reg = Linear_Regressor()\n",
    "grid_search = GridSearchCV(lin_reg,param_grid=param_grid, cv=3, scoring= 'neg_mean_squared_error')\n",
    "grid_search.fit(X,y)\n",
    "grid_search.best_estimator_"
   ]
  },
  {
   "cell_type": "code",
   "execution_count": 243,
   "metadata": {},
   "outputs": [
    {
     "name": "stdout",
     "output_type": "stream",
     "text": [
      "RMSE: 0.9941275756432331\n",
      "[[4.00308717]\n",
      " [2.9935882 ]]\n"
     ]
    }
   ],
   "source": [
    "print('RMSE:',np.sqrt(-grid_search.best_score_))\n",
    "print(grid_search.best_estimator_.theta)"
   ]
  },
  {
   "cell_type": "code",
   "execution_count": null,
   "metadata": {},
   "outputs": [],
   "source": []
  },
  {
   "cell_type": "markdown",
   "metadata": {},
   "source": [
    "# polynomial regression"
   ]
  },
  {
   "cell_type": "code",
   "execution_count": 259,
   "metadata": {},
   "outputs": [],
   "source": [
    "m = 100\n",
    "X = 6 * np.random.rand(m,1) - 3\n",
    "y = 0.5 * X**2 + X + 2 + np.random.randn(m,1)"
   ]
  },
  {
   "cell_type": "code",
   "execution_count": 260,
   "metadata": {},
   "outputs": [
    {
     "name": "stdout",
     "output_type": "stream",
     "text": [
      "X: [1.82688588] / X**2: [1.82688588 3.33751201]\n"
     ]
    }
   ],
   "source": [
    "from sklearn.preprocessing import PolynomialFeatures\n",
    "\n",
    "poly_features = PolynomialFeatures(degree=2, include_bias= False)\n",
    "X_poly = poly_features.fit_transform(X)\n",
    "print('X:',X[0],'/ X**2:',X_poly[0])"
   ]
  },
  {
   "cell_type": "code",
   "execution_count": 261,
   "metadata": {},
   "outputs": [
    {
     "data": {
      "text/plain": [
       "0.8259610532356998"
      ]
     },
     "execution_count": 261,
     "metadata": {},
     "output_type": "execute_result"
    }
   ],
   "source": [
    "lin_reg = Linear_Regressor()\n",
    "lin_reg.fit(X_poly,y)\n",
    "lin_reg.score(X_poly,y)"
   ]
  },
  {
   "cell_type": "code",
   "execution_count": 262,
   "metadata": {},
   "outputs": [
    {
     "data": {
      "image/png": "[encoded data removed]",
      "text/plain": [
       "<Figure size 432x288 with 1 Axes>"
      ]
     },
     "metadata": {
      "needs_background": "light"
     },
     "output_type": "display_data"
    }
   ],
   "source": [
    "plt.plot(X,y,'b.')\n",
    "plt.plot(X,lin_reg.predict(X_poly),'ro')\n",
    "plt.show()"
   ]
  },
  {
   "cell_type": "code",
   "execution_count": 266,
   "metadata": {},
   "outputs": [
    {
     "data": {
      "image/png": "[encoded data removed]",
      "text/plain": [
       "<Figure size 432x288 with 1 Axes>"
      ]
     },
     "metadata": {
      "needs_background": "light"
     },
     "output_type": "display_data"
    }
   ],
   "source": [
    "from sklearn.metrics import mean_squared_error\n",
    "from sklearn.model_selection import train_test_split\n",
    "\n",
    "def plot_learning_curves(model, X, y):\n",
    "    X_train, X_val, y_train, y_val = train_test_split(X, y, test_size=0.2)\n",
    "    train_errors, val_errors = [], []\n",
    "    for m in range(1, len(X_train)):\n",
    "        model.fit(X_train[:m], y_train[:m])\n",
    "        y_train_predict = model.predict(X_train[:m])\n",
    "        y_val_predict = model.predict(X_val)\n",
    "        train_errors.append(mean_squared_error(y_train_predict, y_train[:m]))\n",
    "        val_errors.append(mean_squared_error(y_val_predict, y_val))\n",
    "    plt.plot(np.sqrt(train_errors), \"r-+\", linewidth=2, label=\"train\")\n",
    "    plt.plot(np.sqrt(val_errors), \"b-\", linewidth=3, label=\"val\")\n",
    "    plt.legend('lower right')\n",
    "\n",
    "lin_reg = LinearRegression()\n",
    "plot_learning_curves(lin_reg, X, y)\n",
    "plt.show()"
   ]
  },
  {
   "cell_type": "code",
   "execution_count": 267,
   "metadata": {},
   "outputs": [
    {
     "data": {
      "image/png": "[encoded data removed]",
      "text/plain": [
       "<Figure size 432x288 with 1 Axes>"
      ]
     },
     "metadata": {
      "needs_background": "light"
     },
     "output_type": "display_data"
    }
   ],
   "source": [
    "from sklearn.pipeline import Pipeline\n",
    "polynomial_regression = Pipeline((\n",
    "    (\"poly_features\", PolynomialFeatures(degree=10, include_bias=False)),\n",
    "    (\"sgd_reg\", LinearRegression()),\n",
    "))\n",
    "plot_learning_curves(polynomial_regression, X, y)\n",
    "#These learning curves look a bit like the previous ones, "
   ]
  },
  {
   "cell_type": "markdown",
   "metadata": {},
   "source": [
    "#### Bias \n",
    "* Cette partie de l'erreur est due à de mauvaises hypothèses, comme supposer par exemple que les données sont linéaires alors qu'elles sont quadratiques. = Underfitting.\n",
    "\n",
    "#### Variance\n",
    "* Haute sensibilité du modèle aux petites variations dans le set d'apprenstissage. Overfitting : il faut + de donnees, regulariser le modèle ou diminuer la complexité du modele\n",
    "\n",
    "#### Erreur irreductible\n",
    "* Bruit dans les données que le modèle va reproduire. Pour l'eviter il faut nettoyer à la mains les données.\n"
   ]
  },
  {
   "cell_type": "code",
   "execution_count": 309,
   "metadata": {},
   "outputs": [],
   "source": [
    "from sklearn.base import BaseEstimator,clone, ClassifierMixin, RegressorMixin, ClusterMixin, TransformerMixin\n",
    "from sklearn.model_selection import train_test_split\n",
    "\n",
    "class Linear_Regressor(BaseEstimator, RegressorMixin):\n",
    "    \"\"\"\n",
    "    - X : shape = m,n\n",
    "    - y : shape = m,1\n",
    "    \"\"\"\n",
    "    def __init__(self,batch_size=32, learning_rate=0.003, nb_iter=10000, penalty=None):\n",
    "        self.learning_rate = learning_rate\n",
    "        self.nb_iter = nb_iter\n",
    "        self.batch_size = batch_size\n",
    "        self.penalty = penalty\n",
    "        \n",
    "    # perform Stochiastic Gradient Descent   \n",
    "    def fit(self, X, y=None, verbose = True):\n",
    "        \n",
    "        m = X.shape[0] # nb training exemple\n",
    "        n = X.shape[1] # nb features + intercept\n",
    "        \n",
    "        \n",
    "        # separation set d'apprentissage / validation\n",
    "        # random initialization w et b\n",
    "        self.w = np.random.randn(n,1)\n",
    "        self.b = np.random.randn(1)\n",
    "        for epoch in range(self.nb_iter):\n",
    "            \n",
    "            idx = np.random.randint(0,high=m,size = self.batch_size)\n",
    "            # compute predictions \n",
    "            preds = self.predict(X[idx])\n",
    "            # compute gradients\n",
    "            w_grads = (2/self.batch_size) * X[idx].T.dot(preds - y[idx])\n",
    "            b_grads = (2/self.batch_size) * np.sum(preds - y[idx])\n",
    "            \n",
    "            # update weights\n",
    "            self.b -= self.learning_rate * b_grads\n",
    "            self.w -= self.learning_rate * w_grads\n",
    "            \n",
    "    def predict(self, X, y=None):\n",
    "        return X.dot(self.w) + self.b\n",
    "    \n",
    "    def cost(self,X,y):\n",
    "        \n",
    "        return None\n",
    "    \n",
    "    def score(self, X, y=None, metrics = 'MAE'):\n",
    "        return (1/X.shape[0]) * np.sum(np.abs(self.predict(X) - y))"
   ]
  },
  {
   "cell_type": "code",
   "execution_count": 310,
   "metadata": {},
   "outputs": [
    {
     "name": "stdout",
     "output_type": "stream",
     "text": [
      "MAE= 0.796610896161772\n"
     ]
    }
   ],
   "source": [
    "m = 10000\n",
    "\n",
    "\n",
    "X = 2 * np.random.rand(m,1)\n",
    "y = 4 + 3 * X + np.random.randn(m,1)\n",
    "\n",
    "lin_reg = Linear_Regressor(learning_rate=0.03,nb_iter=1000, batch_size=32, penalty=None)\n",
    "\n",
    "lin_reg.fit(X,y)\n",
    "#y_pred = lin_reg.predict(X)\n",
    "print('MAE=',lin_reg.score(X,y))"
   ]
  },
  {
   "cell_type": "code",
   "execution_count": null,
   "metadata": {},
   "outputs": [],
   "source": [
    "# Early Stopping : \n",
    "from sklearn.linear_model import SGDRegressor\n",
    "\n",
    "sgd_reg = SGDRegressor(nb_iter=1, warm_start=True, penalty=None,learning_rate=\"constant\", eta0=0.0005)\n",
    "minimum_val_error = float(\"inf\")\n",
    "best_epoch = None\n",
    "best_model = None\n",
    "for epoch in range(1000):\n",
    "    sgd_reg.fit(X_train_poly_scaled, y_train) # continues where it left off\n",
    "    y_val_predict = sgd_reg.predict(X_val_poly_scaled)\n",
    "    val_error = mean_squared_error(y_val_predict, y_val)\n",
    "    if val_error < minimum_val_error:\n",
    "        minimum_val_error = val_error\n",
    "        best_epoch = epoch\n",
    "        best_model = clone(sgd_reg)"
   ]
  },
  {
   "cell_type": "markdown",
   "metadata": {},
   "source": [
    "# lRegression Logistique"
   ]
  },
  {
   "cell_type": "code",
   "execution_count": 319,
   "metadata": {},
   "outputs": [],
   "source": [
    "from sklearn import datasets\n",
    "\n",
    "iris = datasets.load_iris()\n",
    "X = iris['data'][:,(2,3)]\n",
    "y = iris['target']"
   ]
  },
  {
   "cell_type": "code",
   "execution_count": 322,
   "metadata": {},
   "outputs": [
    {
     "data": {
      "text/plain": [
       "0.96"
      ]
     },
     "execution_count": 322,
     "metadata": {},
     "output_type": "execute_result"
    }
   ],
   "source": [
    "from sklearn.linear_model import LogisticRegression\n",
    "\n",
    "sgd_clf = LogisticRegression(multi_class='multinomial', solver=\"lbfgs\", C=10)\n",
    "sgd_clf.fit(X,y)\n",
    "sgd_clf.score(X,y)"
   ]
  },
  {
   "cell_type": "code",
   "execution_count": null,
   "metadata": {},
   "outputs": [],
   "source": []
  }
 ],
 "metadata": {
  "kernelspec": {
   "display_name": "Python 3",
   "language": "python",
   "name": "python3"
  },
  "language_info": {
   "codemirror_mode": {
    "name": "ipython",
    "version": 3
   },
   "file_extension": ".py",
   "mimetype": "text/x-python",
   "name": "python",
   "nbconvert_exporter": "python",
   "pygments_lexer": "ipython3",
   "version": "3.7.3"
  }
 },
 "nbformat": 4,
 "nbformat_minor": 2
}
